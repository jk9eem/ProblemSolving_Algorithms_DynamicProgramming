{
  "cells": [
    {
      "cell_type": "markdown",
      "metadata": {
        "id": "view-in-github",
        "colab_type": "text"
      },
      "source": [
        "<a href=\"https://colab.research.google.com/github/jk9eem/ProblemSolving_Algorithms_DynamicProgramming/blob/main/Problem%20Solving_Algorithms_Dynamic%20Programming.ipynb\" target=\"_parent\"><img src=\"https://colab.research.google.com/assets/colab-badge.svg\" alt=\"Open In Colab\"/></a>"
      ]
    },
    {
      "cell_type": "markdown",
      "source": [
        "1.The Coin Change Problem"
      ],
      "metadata": {
        "id": "vnPh4IFvmFiK"
      }
    },
    {
      "cell_type": "code",
      "source": [
        "def getWays(n, c):\n",
        "    # Write your code here\n",
        "    dp = [1] + [0]*n\n",
        "    for coin in c:\n",
        "        for i in range(coin, n+1):\n",
        "            dp[i] += dp[i-coin]\n",
        "    return dp[n]"
      ],
      "metadata": {
        "id": "z94boBg6mFqz"
      },
      "execution_count": null,
      "outputs": []
    }
  ],
  "metadata": {
    "colab": {
      "collapsed_sections": [],
      "name": "Welcome To Colaboratory",
      "toc_visible": true,
      "provenance": [],
      "include_colab_link": true
    },
    "kernelspec": {
      "display_name": "Python 3",
      "name": "python3"
    }
  },
  "nbformat": 4,
  "nbformat_minor": 0
}